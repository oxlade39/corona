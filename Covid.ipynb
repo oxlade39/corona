{
 "metadata": {
  "language_info": {
   "codemirror_mode": {
    "name": "ipython",
    "version": 3
   },
   "file_extension": ".py",
   "mimetype": "text/x-python",
   "name": "python",
   "nbconvert_exporter": "python",
   "pygments_lexer": "ipython3",
   "version": "3.7.1-final"
  },
  "orig_nbformat": 2,
  "kernelspec": {
   "name": "python_defaultSpec_1600719841150",
   "display_name": "Python 3.7.1 64-bit ('corona': pipenv)"
  }
 },
 "nbformat": 4,
 "nbformat_minor": 2,
 "cells": []
}